{
  "nbformat": 4,
  "nbformat_minor": 0,
  "metadata": {
    "colab": {
      "provenance": [],
      "toc_visible": true,
      "authorship_tag": "ABX9TyMJ/rzc0ny6VOJ0GcYfTCcD",
      "include_colab_link": true
    },
    "kernelspec": {
      "name": "python3",
      "display_name": "Python 3"
    },
    "language_info": {
      "name": "python"
    }
  },
  "cells": [
    {
      "cell_type": "markdown",
      "metadata": {
        "id": "view-in-github",
        "colab_type": "text"
      },
      "source": [
        "<a href=\"https://colab.research.google.com/github/GambimL/Card_de_login/blob/master/mask_extration(Vestibular-Schwannoma%20SEG%20Dataset).ipynb\" target=\"_parent\"><img src=\"https://colab.research.google.com/assets/colab-badge.svg\" alt=\"Open In Colab\"/></a>"
      ]
    },
    {
      "cell_type": "markdown",
      "source": [
        "Download libraries"
      ],
      "metadata": {
        "id": "77df7HUv4vRa"
      }
    },
    {
      "cell_type": "code",
      "execution_count": 2,
      "metadata": {
        "colab": {
          "base_uri": "https://localhost:8080/",
          "height": 373
        },
        "id": "Q613TdnAc1I3",
        "outputId": "202224d2-1a5d-42cd-9d58-d84173bf6f19"
      },
      "outputs": [
        {
          "output_type": "stream",
          "name": "stdout",
          "text": [
            "Collecting rt_utils\n",
            "  Downloading rt_utils-1.2.7-py2.py3-none-any.whl (18 kB)\n",
            "Collecting pydicom (from rt_utils)\n",
            "  Downloading pydicom-2.4.4-py3-none-any.whl (1.8 MB)\n",
            "\u001b[2K     \u001b[90m━━━━━━━━━━━━━━━━━━━━━━━━━━━━━━━━━━━━━━━━\u001b[0m \u001b[32m1.8/1.8 MB\u001b[0m \u001b[31m8.2 MB/s\u001b[0m eta \u001b[36m0:00:00\u001b[0m\n",
            "\u001b[?25hRequirement already satisfied: numpy in /usr/local/lib/python3.10/dist-packages (from rt_utils) (1.25.2)\n",
            "Requirement already satisfied: opencv-python in /usr/local/lib/python3.10/dist-packages (from rt_utils) (4.8.0.76)\n",
            "Collecting dataclasses (from rt_utils)\n",
            "  Downloading dataclasses-0.6-py3-none-any.whl (14 kB)\n",
            "Installing collected packages: dataclasses, pydicom, rt_utils\n",
            "Successfully installed dataclasses-0.6 pydicom-2.4.4 rt_utils-1.2.7\n"
          ]
        },
        {
          "output_type": "display_data",
          "data": {
            "application/vnd.colab-display-data+json": {
              "pip_warning": {
                "packages": [
                  "dataclasses"
                ]
              },
              "id": "5368a22c2863448398ffb8740b486e28"
            }
          },
          "metadata": {}
        },
        {
          "output_type": "stream",
          "name": "stdout",
          "text": [
            "Requirement already satisfied: nibabel in /usr/local/lib/python3.10/dist-packages (4.0.2)\n",
            "Requirement already satisfied: numpy>=1.17 in /usr/local/lib/python3.10/dist-packages (from nibabel) (1.25.2)\n",
            "Requirement already satisfied: packaging>=17.0 in /usr/local/lib/python3.10/dist-packages (from nibabel) (24.0)\n",
            "Requirement already satisfied: setuptools in /usr/local/lib/python3.10/dist-packages (from nibabel) (67.7.2)\n"
          ]
        }
      ],
      "source": [
        "!pip install rt_utils #this lib is for reconstruct the RTstruct of planing\n",
        "!pip install nibabel #this lib is for save arhives in nii file format"
      ]
    },
    {
      "cell_type": "markdown",
      "source": [
        "conection with drive\n"
      ],
      "metadata": {
        "id": "BmKs8mmVn6eK"
      }
    },
    {
      "cell_type": "code",
      "source": [
        "from google.colab import drive #mount the drive of user\n",
        "drive.mount('/content/drive')"
      ],
      "metadata": {
        "colab": {
          "base_uri": "https://localhost:8080/"
        },
        "id": "dJidRdfzkBld",
        "outputId": "d20dab9f-938f-49ef-e9c4-fc031c9fbabc"
      },
      "execution_count": 1,
      "outputs": [
        {
          "output_type": "stream",
          "name": "stdout",
          "text": [
            "Mounted at /content/drive\n"
          ]
        }
      ]
    },
    {
      "cell_type": "markdown",
      "source": [
        "load libraries"
      ],
      "metadata": {
        "id": "sfsjpbWCoBsP"
      }
    },
    {
      "cell_type": "code",
      "source": [
        "from rt_utils import RTStructBuilder\n",
        "import matplotlib.pyplot as plt\n",
        "import nibabel as nib\n",
        "import pydicom as pydcm\n",
        "import numpy as np\n",
        "import os"
      ],
      "metadata": {
        "id": "JNA8t3Ewn36V"
      },
      "execution_count": 3,
      "outputs": []
    },
    {
      "cell_type": "markdown",
      "source": [
        "configurations"
      ],
      "metadata": {
        "id": "sExmfAI-gX-R"
      }
    },
    {
      "cell_type": "code",
      "source": [
        "plt.rcParams['figure.figsize'] = [3, 3] #configure the size of figure in matplotlib.pyplot"
      ],
      "metadata": {
        "id": "AFCuhuivgXOC"
      },
      "execution_count": null,
      "outputs": []
    },
    {
      "cell_type": "markdown",
      "source": [
        "## Data visualization"
      ],
      "metadata": {
        "id": "r6cha-UlQlAU"
      }
    },
    {
      "cell_type": "code",
      "source": [
        "#this cell is for visualization of  MRI images\n",
        "\n",
        "file_path = \"/content/drive/MyDrive/VS_seg/dicom_data/vs_gk_39_t1/IMG0000000034.dcm\" #path of iage\n",
        "ds = pydcm.dcmread(file_path) #load dicom file in a varable\n",
        "img = ds.pixel_array #extracts pixel matrix of dicom file\n",
        "plt.imshow(img,cmap='gray') #plot the image\n",
        "plt.show()"
      ],
      "metadata": {
        "id": "_C4xlcJqeqnm"
      },
      "execution_count": null,
      "outputs": []
    },
    {
      "cell_type": "code",
      "source": [
        "#this cell is etract a mask ande visualize\n",
        "\n",
        "slicers_path = \"/content/drive/MyDrive/VS_seg/dicom_data/vs_gk_40_t1\" #slices of mri exam path\n",
        "rtstruct_path = \"/content/drive/MyDrive/VS_seg/dicom_data/vs_gk_40_t1/RTSS.dcm\" #RTstruct path\n",
        "\n",
        "\n",
        "# this method load rt struct and dicom series related in the path\n",
        "rtstruct = RTStructBuilder.create_from(\n",
        "  dicom_series_path = slicers_path,\n",
        "  rt_struct_path = rtstruct_path\n",
        ")\n",
        "\n",
        "\n",
        "print(rtstruct.get_roi_names()) #print the roi existing in the rt struct file\n",
        "\n",
        "mask_3d = rtstruct.get_roi_mask_by_name(\"AN\") #get the masks slices for an roi in the rt struct file\n",
        "\n",
        "first_mask_slice = mask_3d[:, :, 34] #get the mask 34 in slices masks\n",
        "plt.imshow(first_mask_slice, cmap='gray')\n",
        "plt.show()"
      ],
      "metadata": {
        "id": "r7lT2vjIoGjI"
      },
      "execution_count": null,
      "outputs": []
    },
    {
      "cell_type": "markdown",
      "source": [
        "## Extracting masks in sequence"
      ],
      "metadata": {
        "id": "T3oYqpyDQsUd"
      }
    },
    {
      "cell_type": "markdown",
      "source": [
        "Path files"
      ],
      "metadata": {
        "id": "Gu1Vx_D52Gyq"
      }
    },
    {
      "cell_type": "code",
      "source": [
        "output_path = \"/content/drive/MyDrive/VS_seg/input_data\" #output path of masks"
      ],
      "metadata": {
        "id": "GG48IRJN2UQc"
      },
      "execution_count": 5,
      "outputs": []
    },
    {
      "cell_type": "markdown",
      "source": [
        "Extracting masks in nifit format\n"
      ],
      "metadata": {
        "id": "9NNhP3Rp4mcd"
      }
    },
    {
      "cell_type": "code",
      "source": [
        "number_of_exams = 250 #number of exams in dataset\n",
        "number_of_stop = 228 #exam number that the interaction will start\n",
        "\n",
        "for i in range(number_of_stop, number_of_exams + 1):\n",
        "  os.mkdir(f\"/content/drive/MyDrive/VS_seg/input_data/vs_gk_{i}\") #creates the directory where the mask for that interaction will be stored\n",
        "  dir_name = [f\"vs_gk_{i}_t1\",f\"vs_gk_{i}_t2\"]\n",
        "\n",
        "\n",
        "  for k in range(len(dir_name)):\n",
        "    #This block occurs the same as in cell 5\n",
        "    #_____________________________________________________________________\n",
        "    slicers_path = f\"/content/drive/MyDrive/VS_seg/dicom_data/{dir_name[k]}\"\n",
        "    rtstruct_path = f\"/content/drive/MyDrive/VS_seg/dicom_data/{dir_name[k]}/RTSS.dcm\"\n",
        "\n",
        "\n",
        "    rtstruct = RTStructBuilder.create_from(\n",
        "    dicom_series_path = slicers_path,\n",
        "    rt_struct_path = rtstruct_path\n",
        "    )\n",
        "\n",
        "    masks = rtstruct.get_roi_names()\n",
        "    mask_3d = rtstruct.get_roi_mask_by_name(masks[0])\n",
        "    #______________________________________________________________________\n",
        "\n",
        "\n",
        "    data = mask_3d.astype(int) #store the masks matrix in int datatype in a variable\n",
        "    img = nib.Nifti1Image(data, np.eye(4)) #create a nii image\n",
        "\n",
        "    nib.save(img, f\"{output_path}/vs_gk_{i}/vs_gk_seg_refT{k+1}.nii.gz\") #save the nii image\n"
      ],
      "metadata": {
        "id": "Vf2TJKV3QvBt",
        "colab": {
          "base_uri": "https://localhost:8080/"
        },
        "outputId": "33b93e8c-dea2-4cf6-96dc-385baed3ec2b"
      },
      "execution_count": 12,
      "outputs": [
        {
          "output_type": "stream",
          "name": "stderr",
          "text": [
            "<ipython-input-12-c548a11d2dd4>:24: FutureWarning: Image data has type int64, which may cause incompatibilities with other tools. This will error in NiBabel 5.0. This warning can be silenced by passing the dtype argument to Nifti1Image().\n",
            "  img = nib.Nifti1Image(data, np.eye(4))\n"
          ]
        }
      ]
    }
  ]
}